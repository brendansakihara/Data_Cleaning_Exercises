{
 "cells": [
  {
   "cell_type": "code",
   "execution_count": 90,
   "metadata": {},
   "outputs": [],
   "source": [
    "import pandas as pd\n",
    "import numpy as np\n",
    "import re"
   ]
  },
  {
   "cell_type": "markdown",
   "metadata": {},
   "source": [
    "Imported dataset and set the 'Description' as the index."
   ]
  },
  {
   "cell_type": "code",
   "execution_count": 91,
   "metadata": {},
   "outputs": [],
   "source": [
    "data = pd.read_excel('data_7.xlsx')\n",
    "data.set_index('Description', inplace = True)"
   ]
  },
  {
   "cell_type": "code",
   "execution_count": 92,
   "metadata": {},
   "outputs": [
    {
     "data": {
      "text/html": [
       "<div>\n",
       "<style scoped>\n",
       "    .dataframe tbody tr th:only-of-type {\n",
       "        vertical-align: middle;\n",
       "    }\n",
       "\n",
       "    .dataframe tbody tr th {\n",
       "        vertical-align: top;\n",
       "    }\n",
       "\n",
       "    .dataframe thead th {\n",
       "        text-align: right;\n",
       "    }\n",
       "</style>\n",
       "<table border=\"1\" class=\"dataframe\">\n",
       "  <thead>\n",
       "    <tr style=\"text-align: right;\">\n",
       "      <th></th>\n",
       "      <th>Quantity</th>\n",
       "    </tr>\n",
       "    <tr>\n",
       "      <th>Description</th>\n",
       "      <th></th>\n",
       "    </tr>\n",
       "  </thead>\n",
       "  <tbody>\n",
       "    <tr>\n",
       "      <th>lotion Benzylbenzoate lotion</th>\n",
       "      <td>0Bottle</td>\n",
       "    </tr>\n",
       "    <tr>\n",
       "      <th>Methylated spirit 100ml</th>\n",
       "      <td>0Bottle</td>\n",
       "    </tr>\n",
       "    <tr>\n",
       "      <th>susp Magnessium Trisilicate 200ml</th>\n",
       "      <td>0Bottle</td>\n",
       "    </tr>\n",
       "    <tr>\n",
       "      <th>Susp. Amoxicillin 125mg/5ml</th>\n",
       "      <td>0Bottle</td>\n",
       "    </tr>\n",
       "    <tr>\n",
       "      <th>Susp. Erythromycin 125mg/5ml</th>\n",
       "      <td>0Bottle</td>\n",
       "    </tr>\n",
       "    <tr>\n",
       "      <th>...</th>\n",
       "      <td>...</td>\n",
       "    </tr>\n",
       "    <tr>\n",
       "      <th>Syp Ascorbic acid</th>\n",
       "      <td>20Bottle</td>\n",
       "    </tr>\n",
       "    <tr>\n",
       "      <th>syr Cough Syrup (P) 100ml</th>\n",
       "      <td>20Bottle</td>\n",
       "    </tr>\n",
       "    <tr>\n",
       "      <th>syr Cough Syrup (A) 100ml</th>\n",
       "      <td>10Bottle</td>\n",
       "    </tr>\n",
       "    <tr>\n",
       "      <th>Cotton Wool 100g</th>\n",
       "      <td>1Pcs</td>\n",
       "    </tr>\n",
       "    <tr>\n",
       "      <th>Disposable gloves</th>\n",
       "      <td>1Pairs</td>\n",
       "    </tr>\n",
       "  </tbody>\n",
       "</table>\n",
       "<p>2279 rows × 1 columns</p>\n",
       "</div>"
      ],
      "text/plain": [
       "                                   Quantity\n",
       "Description                                \n",
       "lotion Benzylbenzoate lotion        0Bottle\n",
       "Methylated spirit 100ml             0Bottle\n",
       "susp Magnessium Trisilicate 200ml   0Bottle\n",
       "Susp. Amoxicillin 125mg/5ml         0Bottle\n",
       "Susp. Erythromycin 125mg/5ml        0Bottle\n",
       "...                                     ...\n",
       "Syp Ascorbic acid                  20Bottle\n",
       "syr Cough Syrup (P) 100ml          20Bottle\n",
       "syr Cough Syrup (A) 100ml          10Bottle\n",
       "Cotton Wool 100g                       1Pcs\n",
       "Disposable gloves                    1Pairs\n",
       "\n",
       "[2279 rows x 1 columns]"
      ]
     },
     "execution_count": 92,
     "metadata": {},
     "output_type": "execute_result"
    }
   ],
   "source": [
    "data"
   ]
  },
  {
   "cell_type": "markdown",
   "metadata": {},
   "source": [
    "The 'Quantity' column has the measure and the quantity so those need to split up to their own columns."
   ]
  },
  {
   "cell_type": "markdown",
   "metadata": {},
   "source": [
    "Splitting the measure from the quantity first."
   ]
  },
  {
   "cell_type": "code",
   "execution_count": 93,
   "metadata": {},
   "outputs": [
    {
     "data": {
      "text/html": [
       "<div>\n",
       "<style scoped>\n",
       "    .dataframe tbody tr th:only-of-type {\n",
       "        vertical-align: middle;\n",
       "    }\n",
       "\n",
       "    .dataframe tbody tr th {\n",
       "        vertical-align: top;\n",
       "    }\n",
       "\n",
       "    .dataframe thead th {\n",
       "        text-align: right;\n",
       "    }\n",
       "</style>\n",
       "<table border=\"1\" class=\"dataframe\">\n",
       "  <thead>\n",
       "    <tr style=\"text-align: right;\">\n",
       "      <th></th>\n",
       "      <th>Quantity</th>\n",
       "      <th>Measure</th>\n",
       "    </tr>\n",
       "    <tr>\n",
       "      <th>Description</th>\n",
       "      <th></th>\n",
       "      <th></th>\n",
       "    </tr>\n",
       "  </thead>\n",
       "  <tbody>\n",
       "    <tr>\n",
       "      <th>lotion Benzylbenzoate lotion</th>\n",
       "      <td>0Bottle</td>\n",
       "      <td>Bottle</td>\n",
       "    </tr>\n",
       "    <tr>\n",
       "      <th>Methylated spirit 100ml</th>\n",
       "      <td>0Bottle</td>\n",
       "      <td>Bottle</td>\n",
       "    </tr>\n",
       "    <tr>\n",
       "      <th>susp Magnessium Trisilicate 200ml</th>\n",
       "      <td>0Bottle</td>\n",
       "      <td>Bottle</td>\n",
       "    </tr>\n",
       "    <tr>\n",
       "      <th>Susp. Amoxicillin 125mg/5ml</th>\n",
       "      <td>0Bottle</td>\n",
       "      <td>Bottle</td>\n",
       "    </tr>\n",
       "    <tr>\n",
       "      <th>Susp. Erythromycin 125mg/5ml</th>\n",
       "      <td>0Bottle</td>\n",
       "      <td>Bottle</td>\n",
       "    </tr>\n",
       "    <tr>\n",
       "      <th>...</th>\n",
       "      <td>...</td>\n",
       "      <td>...</td>\n",
       "    </tr>\n",
       "    <tr>\n",
       "      <th>Syp Ascorbic acid</th>\n",
       "      <td>20Bottle</td>\n",
       "      <td>Bottle</td>\n",
       "    </tr>\n",
       "    <tr>\n",
       "      <th>syr Cough Syrup (P) 100ml</th>\n",
       "      <td>20Bottle</td>\n",
       "      <td>Bottle</td>\n",
       "    </tr>\n",
       "    <tr>\n",
       "      <th>syr Cough Syrup (A) 100ml</th>\n",
       "      <td>10Bottle</td>\n",
       "      <td>Bottle</td>\n",
       "    </tr>\n",
       "    <tr>\n",
       "      <th>Cotton Wool 100g</th>\n",
       "      <td>1Pcs</td>\n",
       "      <td>Pcs</td>\n",
       "    </tr>\n",
       "    <tr>\n",
       "      <th>Disposable gloves</th>\n",
       "      <td>1Pairs</td>\n",
       "      <td>Pairs</td>\n",
       "    </tr>\n",
       "  </tbody>\n",
       "</table>\n",
       "<p>2279 rows × 2 columns</p>\n",
       "</div>"
      ],
      "text/plain": [
       "                                   Quantity Measure\n",
       "Description                                        \n",
       "lotion Benzylbenzoate lotion        0Bottle  Bottle\n",
       "Methylated spirit 100ml             0Bottle  Bottle\n",
       "susp Magnessium Trisilicate 200ml   0Bottle  Bottle\n",
       "Susp. Amoxicillin 125mg/5ml         0Bottle  Bottle\n",
       "Susp. Erythromycin 125mg/5ml        0Bottle  Bottle\n",
       "...                                     ...     ...\n",
       "Syp Ascorbic acid                  20Bottle  Bottle\n",
       "syr Cough Syrup (P) 100ml          20Bottle  Bottle\n",
       "syr Cough Syrup (A) 100ml          10Bottle  Bottle\n",
       "Cotton Wool 100g                       1Pcs     Pcs\n",
       "Disposable gloves                    1Pairs   Pairs\n",
       "\n",
       "[2279 rows x 2 columns]"
      ]
     },
     "execution_count": 93,
     "metadata": {},
     "output_type": "execute_result"
    }
   ],
   "source": [
    "data['Measure'] = data['Quantity'].str.findall('\\D').str.join(\"\")\n",
    "data"
   ]
  },
  {
   "cell_type": "markdown",
   "metadata": {},
   "source": [
    "Since the measure is already split off, there isn't a worry of deleting the text so I replaced all letters so that only the numbers remains."
   ]
  },
  {
   "cell_type": "code",
   "execution_count": 94,
   "metadata": {},
   "outputs": [
    {
     "data": {
      "text/html": [
       "<div>\n",
       "<style scoped>\n",
       "    .dataframe tbody tr th:only-of-type {\n",
       "        vertical-align: middle;\n",
       "    }\n",
       "\n",
       "    .dataframe tbody tr th {\n",
       "        vertical-align: top;\n",
       "    }\n",
       "\n",
       "    .dataframe thead th {\n",
       "        text-align: right;\n",
       "    }\n",
       "</style>\n",
       "<table border=\"1\" class=\"dataframe\">\n",
       "  <thead>\n",
       "    <tr style=\"text-align: right;\">\n",
       "      <th></th>\n",
       "      <th>Quantity</th>\n",
       "      <th>Measure</th>\n",
       "    </tr>\n",
       "    <tr>\n",
       "      <th>Description</th>\n",
       "      <th></th>\n",
       "      <th></th>\n",
       "    </tr>\n",
       "  </thead>\n",
       "  <tbody>\n",
       "    <tr>\n",
       "      <th>lotion Benzylbenzoate lotion</th>\n",
       "      <td>0</td>\n",
       "      <td>Bottle</td>\n",
       "    </tr>\n",
       "    <tr>\n",
       "      <th>Methylated spirit 100ml</th>\n",
       "      <td>0</td>\n",
       "      <td>Bottle</td>\n",
       "    </tr>\n",
       "    <tr>\n",
       "      <th>susp Magnessium Trisilicate 200ml</th>\n",
       "      <td>0</td>\n",
       "      <td>Bottle</td>\n",
       "    </tr>\n",
       "    <tr>\n",
       "      <th>Susp. Amoxicillin 125mg/5ml</th>\n",
       "      <td>0</td>\n",
       "      <td>Bottle</td>\n",
       "    </tr>\n",
       "    <tr>\n",
       "      <th>Susp. Erythromycin 125mg/5ml</th>\n",
       "      <td>0</td>\n",
       "      <td>Bottle</td>\n",
       "    </tr>\n",
       "    <tr>\n",
       "      <th>...</th>\n",
       "      <td>...</td>\n",
       "      <td>...</td>\n",
       "    </tr>\n",
       "    <tr>\n",
       "      <th>Syp Ascorbic acid</th>\n",
       "      <td>20</td>\n",
       "      <td>Bottle</td>\n",
       "    </tr>\n",
       "    <tr>\n",
       "      <th>syr Cough Syrup (P) 100ml</th>\n",
       "      <td>20</td>\n",
       "      <td>Bottle</td>\n",
       "    </tr>\n",
       "    <tr>\n",
       "      <th>syr Cough Syrup (A) 100ml</th>\n",
       "      <td>10</td>\n",
       "      <td>Bottle</td>\n",
       "    </tr>\n",
       "    <tr>\n",
       "      <th>Cotton Wool 100g</th>\n",
       "      <td>1</td>\n",
       "      <td>Pcs</td>\n",
       "    </tr>\n",
       "    <tr>\n",
       "      <th>Disposable gloves</th>\n",
       "      <td>1</td>\n",
       "      <td>Pairs</td>\n",
       "    </tr>\n",
       "  </tbody>\n",
       "</table>\n",
       "<p>2279 rows × 2 columns</p>\n",
       "</div>"
      ],
      "text/plain": [
       "                                  Quantity Measure\n",
       "Description                                       \n",
       "lotion Benzylbenzoate lotion             0  Bottle\n",
       "Methylated spirit 100ml                  0  Bottle\n",
       "susp Magnessium Trisilicate 200ml        0  Bottle\n",
       "Susp. Amoxicillin 125mg/5ml              0  Bottle\n",
       "Susp. Erythromycin 125mg/5ml             0  Bottle\n",
       "...                                    ...     ...\n",
       "Syp Ascorbic acid                       20  Bottle\n",
       "syr Cough Syrup (P) 100ml               20  Bottle\n",
       "syr Cough Syrup (A) 100ml               10  Bottle\n",
       "Cotton Wool 100g                         1     Pcs\n",
       "Disposable gloves                        1   Pairs\n",
       "\n",
       "[2279 rows x 2 columns]"
      ]
     },
     "execution_count": 94,
     "metadata": {},
     "output_type": "execute_result"
    }
   ],
   "source": [
    "data['Quantity'] = data['Quantity'].str.replace(r'([a-zA-Z]+)', '', regex = True)\n",
    "data"
   ]
  },
  {
   "cell_type": "markdown",
   "metadata": {},
   "source": [
    "Changed the quantity from an object to a float."
   ]
  },
  {
   "cell_type": "code",
   "execution_count": 95,
   "metadata": {},
   "outputs": [],
   "source": [
    "data['Quantity'] = pd.to_numeric(data['Quantity'])"
   ]
  },
  {
   "cell_type": "code",
   "execution_count": 96,
   "metadata": {},
   "outputs": [
    {
     "data": {
      "text/plain": [
       "Quantity    float64\n",
       "Measure      object\n",
       "dtype: object"
      ]
     },
     "execution_count": 96,
     "metadata": {},
     "output_type": "execute_result"
    }
   ],
   "source": [
    "data.dtypes"
   ]
  },
  {
   "cell_type": "markdown",
   "metadata": {},
   "source": [
    "Added a total row at the bottom."
   ]
  },
  {
   "cell_type": "code",
   "execution_count": 97,
   "metadata": {},
   "outputs": [
    {
     "data": {
      "text/html": [
       "<div>\n",
       "<style scoped>\n",
       "    .dataframe tbody tr th:only-of-type {\n",
       "        vertical-align: middle;\n",
       "    }\n",
       "\n",
       "    .dataframe tbody tr th {\n",
       "        vertical-align: top;\n",
       "    }\n",
       "\n",
       "    .dataframe thead th {\n",
       "        text-align: right;\n",
       "    }\n",
       "</style>\n",
       "<table border=\"1\" class=\"dataframe\">\n",
       "  <thead>\n",
       "    <tr style=\"text-align: right;\">\n",
       "      <th></th>\n",
       "      <th>Quantity</th>\n",
       "      <th>Measure</th>\n",
       "    </tr>\n",
       "    <tr>\n",
       "      <th>Description</th>\n",
       "      <th></th>\n",
       "      <th></th>\n",
       "    </tr>\n",
       "  </thead>\n",
       "  <tbody>\n",
       "    <tr>\n",
       "      <th>lotion Benzylbenzoate lotion</th>\n",
       "      <td>0.0</td>\n",
       "      <td>Bottle</td>\n",
       "    </tr>\n",
       "    <tr>\n",
       "      <th>Methylated spirit 100ml</th>\n",
       "      <td>0.0</td>\n",
       "      <td>Bottle</td>\n",
       "    </tr>\n",
       "    <tr>\n",
       "      <th>susp Magnessium Trisilicate 200ml</th>\n",
       "      <td>0.0</td>\n",
       "      <td>Bottle</td>\n",
       "    </tr>\n",
       "    <tr>\n",
       "      <th>Susp. Amoxicillin 125mg/5ml</th>\n",
       "      <td>0.0</td>\n",
       "      <td>Bottle</td>\n",
       "    </tr>\n",
       "    <tr>\n",
       "      <th>Susp. Erythromycin 125mg/5ml</th>\n",
       "      <td>0.0</td>\n",
       "      <td>Bottle</td>\n",
       "    </tr>\n",
       "    <tr>\n",
       "      <th>...</th>\n",
       "      <td>...</td>\n",
       "      <td>...</td>\n",
       "    </tr>\n",
       "    <tr>\n",
       "      <th>syr Cough Syrup (P) 100ml</th>\n",
       "      <td>20.0</td>\n",
       "      <td>Bottle</td>\n",
       "    </tr>\n",
       "    <tr>\n",
       "      <th>syr Cough Syrup (A) 100ml</th>\n",
       "      <td>10.0</td>\n",
       "      <td>Bottle</td>\n",
       "    </tr>\n",
       "    <tr>\n",
       "      <th>Cotton Wool 100g</th>\n",
       "      <td>1.0</td>\n",
       "      <td>Pcs</td>\n",
       "    </tr>\n",
       "    <tr>\n",
       "      <th>Disposable gloves</th>\n",
       "      <td>1.0</td>\n",
       "      <td>Pairs</td>\n",
       "    </tr>\n",
       "    <tr>\n",
       "      <th>Total</th>\n",
       "      <td>17600.0</td>\n",
       "      <td>NaN</td>\n",
       "    </tr>\n",
       "  </tbody>\n",
       "</table>\n",
       "<p>2280 rows × 2 columns</p>\n",
       "</div>"
      ],
      "text/plain": [
       "                                   Quantity Measure\n",
       "Description                                        \n",
       "lotion Benzylbenzoate lotion            0.0  Bottle\n",
       "Methylated spirit 100ml                 0.0  Bottle\n",
       "susp Magnessium Trisilicate 200ml       0.0  Bottle\n",
       "Susp. Amoxicillin 125mg/5ml             0.0  Bottle\n",
       "Susp. Erythromycin 125mg/5ml            0.0  Bottle\n",
       "...                                     ...     ...\n",
       "syr Cough Syrup (P) 100ml              20.0  Bottle\n",
       "syr Cough Syrup (A) 100ml              10.0  Bottle\n",
       "Cotton Wool 100g                        1.0     Pcs\n",
       "Disposable gloves                       1.0   Pairs\n",
       "Total                               17600.0     NaN\n",
       "\n",
       "[2280 rows x 2 columns]"
      ]
     },
     "execution_count": 97,
     "metadata": {},
     "output_type": "execute_result"
    }
   ],
   "source": [
    "data.loc['Total'] = data.sum(numeric_only=True, axis = 0)\n",
    "data"
   ]
  },
  {
   "cell_type": "code",
   "execution_count": 88,
   "metadata": {},
   "outputs": [],
   "source": [
    "with pd.ExcelWriter('clean_data.xlsx') as excel_writer:\n",
    "    data.to_excel(excel_writer, sheet_name='Sheet1', index = True)"
   ]
  },
  {
   "cell_type": "code",
   "execution_count": null,
   "metadata": {},
   "outputs": [],
   "source": []
  }
 ],
 "metadata": {
  "kernelspec": {
   "display_name": "Python 3",
   "language": "python",
   "name": "python3"
  },
  "language_info": {
   "codemirror_mode": {
    "name": "ipython",
    "version": 3
   },
   "file_extension": ".py",
   "mimetype": "text/x-python",
   "name": "python",
   "nbconvert_exporter": "python",
   "pygments_lexer": "ipython3",
   "version": "3.11.4"
  },
  "orig_nbformat": 4
 },
 "nbformat": 4,
 "nbformat_minor": 2
}
