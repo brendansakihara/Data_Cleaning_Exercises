{
 "cells": [
  {
   "cell_type": "code",
   "execution_count": 4,
   "metadata": {},
   "outputs": [],
   "source": [
    "import pandas as pd\n",
    "import numpy as np\n",
    "import openpyxl"
   ]
  },
  {
   "cell_type": "markdown",
   "metadata": {},
   "source": [
    "Imported dataset set the 'Order ID' as the index."
   ]
  },
  {
   "cell_type": "code",
   "execution_count": 5,
   "metadata": {},
   "outputs": [
    {
     "data": {
      "text/html": [
       "<div>\n",
       "<style scoped>\n",
       "    .dataframe tbody tr th:only-of-type {\n",
       "        vertical-align: middle;\n",
       "    }\n",
       "\n",
       "    .dataframe tbody tr th {\n",
       "        vertical-align: top;\n",
       "    }\n",
       "\n",
       "    .dataframe thead th {\n",
       "        text-align: right;\n",
       "    }\n",
       "</style>\n",
       "<table border=\"1\" class=\"dataframe\">\n",
       "  <thead>\n",
       "    <tr style=\"text-align: right;\">\n",
       "      <th></th>\n",
       "      <th>Category</th>\n",
       "      <th>Amount</th>\n",
       "    </tr>\n",
       "    <tr>\n",
       "      <th>Order ID</th>\n",
       "      <th></th>\n",
       "      <th></th>\n",
       "    </tr>\n",
       "  </thead>\n",
       "  <tbody>\n",
       "    <tr>\n",
       "      <th>CA-2011-167199</th>\n",
       "      <td>Binders | Art | Phones | Fasteners | Paper</td>\n",
       "      <td>609.98 | 5.48 | 391.98 | 755.96 | 31.12</td>\n",
       "    </tr>\n",
       "    <tr>\n",
       "      <th>CA-2011-149020</th>\n",
       "      <td>Office Supplies | Furniture</td>\n",
       "      <td>2.98 | 51.94</td>\n",
       "    </tr>\n",
       "    <tr>\n",
       "      <th>CA-2011-131905</th>\n",
       "      <td>Office Supplies | Technology | Technology</td>\n",
       "      <td>7.2 | 42.0186 | 42.035</td>\n",
       "    </tr>\n",
       "    <tr>\n",
       "      <th>CA-2011-127614</th>\n",
       "      <td>Accessories | Tables | Binders</td>\n",
       "      <td>234.45 | 1256.22 | 17.46</td>\n",
       "    </tr>\n",
       "  </tbody>\n",
       "</table>\n",
       "</div>"
      ],
      "text/plain": [
       "                                                  Category  \\\n",
       "Order ID                                                     \n",
       "CA-2011-167199  Binders | Art | Phones | Fasteners | Paper   \n",
       "CA-2011-149020                 Office Supplies | Furniture   \n",
       "CA-2011-131905   Office Supplies | Technology | Technology   \n",
       "CA-2011-127614              Accessories | Tables | Binders   \n",
       "\n",
       "                                                 Amount  \n",
       "Order ID                                                 \n",
       "CA-2011-167199  609.98 | 5.48 | 391.98 | 755.96 | 31.12  \n",
       "CA-2011-149020                             2.98 | 51.94  \n",
       "CA-2011-131905                   7.2 | 42.0186 | 42.035  \n",
       "CA-2011-127614                 234.45 | 1256.22 | 17.46  "
      ]
     },
     "execution_count": 5,
     "metadata": {},
     "output_type": "execute_result"
    }
   ],
   "source": [
    "data = pd.read_excel('data_8.xlsx')\n",
    "data.set_index('Order ID', inplace = True)\n",
    "data"
   ]
  },
  {
   "cell_type": "markdown",
   "metadata": {},
   "source": [
    "Split the '|' in the category column so that each category and amount has its own row."
   ]
  },
  {
   "cell_type": "code",
   "execution_count": 6,
   "metadata": {},
   "outputs": [],
   "source": [
    "data1 = data.apply(lambda x: x.str.split('|').explode())"
   ]
  },
  {
   "cell_type": "code",
   "execution_count": 7,
   "metadata": {},
   "outputs": [
    {
     "data": {
      "text/html": [
       "<div>\n",
       "<style scoped>\n",
       "    .dataframe tbody tr th:only-of-type {\n",
       "        vertical-align: middle;\n",
       "    }\n",
       "\n",
       "    .dataframe tbody tr th {\n",
       "        vertical-align: top;\n",
       "    }\n",
       "\n",
       "    .dataframe thead th {\n",
       "        text-align: right;\n",
       "    }\n",
       "</style>\n",
       "<table border=\"1\" class=\"dataframe\">\n",
       "  <thead>\n",
       "    <tr style=\"text-align: right;\">\n",
       "      <th></th>\n",
       "      <th>Category</th>\n",
       "      <th>Amount</th>\n",
       "    </tr>\n",
       "    <tr>\n",
       "      <th>Order ID</th>\n",
       "      <th></th>\n",
       "      <th></th>\n",
       "    </tr>\n",
       "  </thead>\n",
       "  <tbody>\n",
       "    <tr>\n",
       "      <th>CA-2011-167199</th>\n",
       "      <td>Binders</td>\n",
       "      <td>609.98</td>\n",
       "    </tr>\n",
       "    <tr>\n",
       "      <th>CA-2011-167199</th>\n",
       "      <td>Art</td>\n",
       "      <td>5.48</td>\n",
       "    </tr>\n",
       "    <tr>\n",
       "      <th>CA-2011-167199</th>\n",
       "      <td>Phones</td>\n",
       "      <td>391.98</td>\n",
       "    </tr>\n",
       "    <tr>\n",
       "      <th>CA-2011-167199</th>\n",
       "      <td>Fasteners</td>\n",
       "      <td>755.96</td>\n",
       "    </tr>\n",
       "    <tr>\n",
       "      <th>CA-2011-167199</th>\n",
       "      <td>Paper</td>\n",
       "      <td>31.12</td>\n",
       "    </tr>\n",
       "    <tr>\n",
       "      <th>CA-2011-149020</th>\n",
       "      <td>Office Supplies</td>\n",
       "      <td>2.98</td>\n",
       "    </tr>\n",
       "    <tr>\n",
       "      <th>CA-2011-149020</th>\n",
       "      <td>Furniture</td>\n",
       "      <td>51.94</td>\n",
       "    </tr>\n",
       "    <tr>\n",
       "      <th>CA-2011-131905</th>\n",
       "      <td>Office Supplies</td>\n",
       "      <td>7.2</td>\n",
       "    </tr>\n",
       "    <tr>\n",
       "      <th>CA-2011-131905</th>\n",
       "      <td>Technology</td>\n",
       "      <td>42.0186</td>\n",
       "    </tr>\n",
       "    <tr>\n",
       "      <th>CA-2011-131905</th>\n",
       "      <td>Technology</td>\n",
       "      <td>42.035</td>\n",
       "    </tr>\n",
       "    <tr>\n",
       "      <th>CA-2011-127614</th>\n",
       "      <td>Accessories</td>\n",
       "      <td>234.45</td>\n",
       "    </tr>\n",
       "    <tr>\n",
       "      <th>CA-2011-127614</th>\n",
       "      <td>Tables</td>\n",
       "      <td>1256.22</td>\n",
       "    </tr>\n",
       "    <tr>\n",
       "      <th>CA-2011-127614</th>\n",
       "      <td>Binders</td>\n",
       "      <td>17.46</td>\n",
       "    </tr>\n",
       "  </tbody>\n",
       "</table>\n",
       "</div>"
      ],
      "text/plain": [
       "                        Category     Amount\n",
       "Order ID                                   \n",
       "CA-2011-167199          Binders     609.98 \n",
       "CA-2011-167199              Art       5.48 \n",
       "CA-2011-167199           Phones     391.98 \n",
       "CA-2011-167199        Fasteners     755.96 \n",
       "CA-2011-167199             Paper      31.12\n",
       "CA-2011-149020  Office Supplies       2.98 \n",
       "CA-2011-149020         Furniture      51.94\n",
       "CA-2011-131905  Office Supplies        7.2 \n",
       "CA-2011-131905       Technology    42.0186 \n",
       "CA-2011-131905        Technology     42.035\n",
       "CA-2011-127614      Accessories     234.45 \n",
       "CA-2011-127614           Tables    1256.22 \n",
       "CA-2011-127614           Binders      17.46"
      ]
     },
     "execution_count": 7,
     "metadata": {},
     "output_type": "execute_result"
    }
   ],
   "source": [
    "data1"
   ]
  },
  {
   "cell_type": "code",
   "execution_count": 8,
   "metadata": {},
   "outputs": [
    {
     "data": {
      "text/plain": [
       "Category    object\n",
       "Amount      object\n",
       "dtype: object"
      ]
     },
     "execution_count": 8,
     "metadata": {},
     "output_type": "execute_result"
    }
   ],
   "source": [
    "data1.dtypes"
   ]
  },
  {
   "cell_type": "markdown",
   "metadata": {},
   "source": [
    "Found that there was a space at the end of each 'Amount' value so I couldn't change it to a numeric so I needed to remove the space first."
   ]
  },
  {
   "cell_type": "code",
   "execution_count": 9,
   "metadata": {},
   "outputs": [],
   "source": [
    "data1['Amount'] = data1['Amount'].apply(lambda x: x.replace(' ', ''))"
   ]
  },
  {
   "cell_type": "code",
   "execution_count": 10,
   "metadata": {},
   "outputs": [
    {
     "data": {
      "text/html": [
       "<div>\n",
       "<style scoped>\n",
       "    .dataframe tbody tr th:only-of-type {\n",
       "        vertical-align: middle;\n",
       "    }\n",
       "\n",
       "    .dataframe tbody tr th {\n",
       "        vertical-align: top;\n",
       "    }\n",
       "\n",
       "    .dataframe thead th {\n",
       "        text-align: right;\n",
       "    }\n",
       "</style>\n",
       "<table border=\"1\" class=\"dataframe\">\n",
       "  <thead>\n",
       "    <tr style=\"text-align: right;\">\n",
       "      <th></th>\n",
       "      <th>Category</th>\n",
       "      <th>Amount</th>\n",
       "    </tr>\n",
       "    <tr>\n",
       "      <th>Order ID</th>\n",
       "      <th></th>\n",
       "      <th></th>\n",
       "    </tr>\n",
       "  </thead>\n",
       "  <tbody>\n",
       "    <tr>\n",
       "      <th>CA-2011-167199</th>\n",
       "      <td>Binders</td>\n",
       "      <td>609.98</td>\n",
       "    </tr>\n",
       "    <tr>\n",
       "      <th>CA-2011-167199</th>\n",
       "      <td>Art</td>\n",
       "      <td>5.48</td>\n",
       "    </tr>\n",
       "    <tr>\n",
       "      <th>CA-2011-167199</th>\n",
       "      <td>Phones</td>\n",
       "      <td>391.98</td>\n",
       "    </tr>\n",
       "    <tr>\n",
       "      <th>CA-2011-167199</th>\n",
       "      <td>Fasteners</td>\n",
       "      <td>755.96</td>\n",
       "    </tr>\n",
       "    <tr>\n",
       "      <th>CA-2011-167199</th>\n",
       "      <td>Paper</td>\n",
       "      <td>31.12</td>\n",
       "    </tr>\n",
       "    <tr>\n",
       "      <th>CA-2011-149020</th>\n",
       "      <td>Office Supplies</td>\n",
       "      <td>2.98</td>\n",
       "    </tr>\n",
       "    <tr>\n",
       "      <th>CA-2011-149020</th>\n",
       "      <td>Furniture</td>\n",
       "      <td>51.94</td>\n",
       "    </tr>\n",
       "    <tr>\n",
       "      <th>CA-2011-131905</th>\n",
       "      <td>Office Supplies</td>\n",
       "      <td>7.2</td>\n",
       "    </tr>\n",
       "    <tr>\n",
       "      <th>CA-2011-131905</th>\n",
       "      <td>Technology</td>\n",
       "      <td>42.0186</td>\n",
       "    </tr>\n",
       "    <tr>\n",
       "      <th>CA-2011-131905</th>\n",
       "      <td>Technology</td>\n",
       "      <td>42.035</td>\n",
       "    </tr>\n",
       "    <tr>\n",
       "      <th>CA-2011-127614</th>\n",
       "      <td>Accessories</td>\n",
       "      <td>234.45</td>\n",
       "    </tr>\n",
       "    <tr>\n",
       "      <th>CA-2011-127614</th>\n",
       "      <td>Tables</td>\n",
       "      <td>1256.22</td>\n",
       "    </tr>\n",
       "    <tr>\n",
       "      <th>CA-2011-127614</th>\n",
       "      <td>Binders</td>\n",
       "      <td>17.46</td>\n",
       "    </tr>\n",
       "  </tbody>\n",
       "</table>\n",
       "</div>"
      ],
      "text/plain": [
       "                        Category   Amount\n",
       "Order ID                                 \n",
       "CA-2011-167199          Binders    609.98\n",
       "CA-2011-167199              Art      5.48\n",
       "CA-2011-167199           Phones    391.98\n",
       "CA-2011-167199        Fasteners    755.96\n",
       "CA-2011-167199             Paper    31.12\n",
       "CA-2011-149020  Office Supplies      2.98\n",
       "CA-2011-149020         Furniture    51.94\n",
       "CA-2011-131905  Office Supplies       7.2\n",
       "CA-2011-131905       Technology   42.0186\n",
       "CA-2011-131905        Technology   42.035\n",
       "CA-2011-127614      Accessories    234.45\n",
       "CA-2011-127614           Tables   1256.22\n",
       "CA-2011-127614           Binders    17.46"
      ]
     },
     "execution_count": 10,
     "metadata": {},
     "output_type": "execute_result"
    }
   ],
   "source": [
    "data1"
   ]
  },
  {
   "cell_type": "markdown",
   "metadata": {},
   "source": [
    "Changed the 'Amount' type to a numeric."
   ]
  },
  {
   "cell_type": "code",
   "execution_count": 11,
   "metadata": {},
   "outputs": [],
   "source": [
    "data1['Amount'] = pd.to_numeric(data1['Amount'])"
   ]
  },
  {
   "cell_type": "code",
   "execution_count": 12,
   "metadata": {},
   "outputs": [
    {
     "data": {
      "text/plain": [
       "Category     object\n",
       "Amount      float64\n",
       "dtype: object"
      ]
     },
     "execution_count": 12,
     "metadata": {},
     "output_type": "execute_result"
    }
   ],
   "source": [
    "data1.dtypes"
   ]
  },
  {
   "cell_type": "code",
   "execution_count": 13,
   "metadata": {},
   "outputs": [],
   "source": [
    "with pd.ExcelWriter('clean_data.xlsx') as excel_writer:\n",
    "    data1.to_excel(excel_writer, sheet_name='Sheet1', index = True)"
   ]
  },
  {
   "cell_type": "code",
   "execution_count": null,
   "metadata": {},
   "outputs": [],
   "source": []
  }
 ],
 "metadata": {
  "kernelspec": {
   "display_name": "Python 3",
   "language": "python",
   "name": "python3"
  },
  "language_info": {
   "codemirror_mode": {
    "name": "ipython",
    "version": 3
   },
   "file_extension": ".py",
   "mimetype": "text/x-python",
   "name": "python",
   "nbconvert_exporter": "python",
   "pygments_lexer": "ipython3",
   "version": "3.11.4"
  },
  "orig_nbformat": 4
 },
 "nbformat": 4,
 "nbformat_minor": 2
}
